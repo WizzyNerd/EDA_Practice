{
  "nbformat": 4,
  "nbformat_minor": 0,
  "metadata": {
    "colab": {
      "provenance": []
    },
    "kernelspec": {
      "name": "python3",
      "display_name": "Python 3"
    },
    "language_info": {
      "name": "python"
    }
  },
  "cells": [
    {
      "cell_type": "markdown",
      "source": [
        "This notebook covers the steps taken to clean and analyze the Anime dataset, which we obtained from Kaggle  [here ](https://www.kaggle.com/datasets/mittvin/anime-dataset)"
      ],
      "metadata": {
        "id": "EIoeUnOGYcae"
      }
    },
    {
      "cell_type": "code",
      "source": [
        "from google.colab import drive\n",
        "drive.mount('/content/drive')"
      ],
      "metadata": {
        "id": "fGya54iu1ME9"
      },
      "execution_count": null,
      "outputs": []
    },
    {
      "cell_type": "markdown",
      "source": [
        "##Essential Libraries"
      ],
      "metadata": {
        "id": "csAcDshDbW_X"
      }
    },
    {
      "cell_type": "code",
      "execution_count": 105,
      "metadata": {
        "id": "CfHwAXqlX0y-"
      },
      "outputs": [],
      "source": [
        "import pandas as pd\n",
        "import matplotlib.pyplot as plt\n",
        "import seaborn as sns"
      ]
    },
    {
      "cell_type": "markdown",
      "source": [
        "## Dataset Loading"
      ],
      "metadata": {
        "id": "fcRpFKrRa2he"
      }
    },
    {
      "cell_type": "code",
      "source": [
        "df=pd.read_csv(\"/content/drive/MyDrive/Anime_list7.csv\")\n",
        "df.tail()"
      ],
      "metadata": {
        "colab": {
          "base_uri": "https://localhost:8080/",
          "height": 204
        },
        "id": "4kq8aDs-Ya2Z",
        "outputId": "b0f8638d-1a90-459e-8c9e-edd46a811538"
      },
      "execution_count": 106,
      "outputs": [
        {
          "output_type": "execute_result",
          "data": {
            "text/plain": [
              "                                 Anime_name      episode             duration  \\\n",
              "14850  Code Geass: Lelouch of the Rebellion  TV (25 eps)  Oct 2006 - Jul 2007   \n",
              "14851                          Cowboy Bebop  TV (26 eps)  Apr 1998 - Apr 1999   \n",
              "14852               Neon Genesis Evangelion  TV (26 eps)  Oct 1995 - Mar 1996   \n",
              "14853                         One Punch Man  TV (12 eps)  Oct 2015 - Dec 2015   \n",
              "14854                            Death Note  TV (37 eps)  Oct 2006 - Jun 2007   \n",
              "\n",
              "                 members  Score  \n",
              "14850  2,469,345 members    NaN  \n",
              "14851  1,474,554 members    NaN  \n",
              "14852  1,522,460 members    NaN  \n",
              "14853  2,219,557 members    NaN  \n",
              "14854  2,347,416 members    NaN  "
            ],
            "text/html": [
              "\n",
              "  <div id=\"df-cb8f67f8-81a5-4416-8be9-0e719a0251a3\" class=\"colab-df-container\">\n",
              "    <div>\n",
              "<style scoped>\n",
              "    .dataframe tbody tr th:only-of-type {\n",
              "        vertical-align: middle;\n",
              "    }\n",
              "\n",
              "    .dataframe tbody tr th {\n",
              "        vertical-align: top;\n",
              "    }\n",
              "\n",
              "    .dataframe thead th {\n",
              "        text-align: right;\n",
              "    }\n",
              "</style>\n",
              "<table border=\"1\" class=\"dataframe\">\n",
              "  <thead>\n",
              "    <tr style=\"text-align: right;\">\n",
              "      <th></th>\n",
              "      <th>Anime_name</th>\n",
              "      <th>episode</th>\n",
              "      <th>duration</th>\n",
              "      <th>members</th>\n",
              "      <th>Score</th>\n",
              "    </tr>\n",
              "  </thead>\n",
              "  <tbody>\n",
              "    <tr>\n",
              "      <th>14850</th>\n",
              "      <td>Code Geass: Lelouch of the Rebellion</td>\n",
              "      <td>TV (25 eps)</td>\n",
              "      <td>Oct 2006 - Jul 2007</td>\n",
              "      <td>2,469,345 members</td>\n",
              "      <td>NaN</td>\n",
              "    </tr>\n",
              "    <tr>\n",
              "      <th>14851</th>\n",
              "      <td>Cowboy Bebop</td>\n",
              "      <td>TV (26 eps)</td>\n",
              "      <td>Apr 1998 - Apr 1999</td>\n",
              "      <td>1,474,554 members</td>\n",
              "      <td>NaN</td>\n",
              "    </tr>\n",
              "    <tr>\n",
              "      <th>14852</th>\n",
              "      <td>Neon Genesis Evangelion</td>\n",
              "      <td>TV (26 eps)</td>\n",
              "      <td>Oct 1995 - Mar 1996</td>\n",
              "      <td>1,522,460 members</td>\n",
              "      <td>NaN</td>\n",
              "    </tr>\n",
              "    <tr>\n",
              "      <th>14853</th>\n",
              "      <td>One Punch Man</td>\n",
              "      <td>TV (12 eps)</td>\n",
              "      <td>Oct 2015 - Dec 2015</td>\n",
              "      <td>2,219,557 members</td>\n",
              "      <td>NaN</td>\n",
              "    </tr>\n",
              "    <tr>\n",
              "      <th>14854</th>\n",
              "      <td>Death Note</td>\n",
              "      <td>TV (37 eps)</td>\n",
              "      <td>Oct 2006 - Jun 2007</td>\n",
              "      <td>2,347,416 members</td>\n",
              "      <td>NaN</td>\n",
              "    </tr>\n",
              "  </tbody>\n",
              "</table>\n",
              "</div>\n",
              "    <div class=\"colab-df-buttons\">\n",
              "\n",
              "  <div class=\"colab-df-container\">\n",
              "    <button class=\"colab-df-convert\" onclick=\"convertToInteractive('df-cb8f67f8-81a5-4416-8be9-0e719a0251a3')\"\n",
              "            title=\"Convert this dataframe to an interactive table.\"\n",
              "            style=\"display:none;\">\n",
              "\n",
              "  <svg xmlns=\"http://www.w3.org/2000/svg\" height=\"24px\" viewBox=\"0 -960 960 960\">\n",
              "    <path d=\"M120-120v-720h720v720H120Zm60-500h600v-160H180v160Zm220 220h160v-160H400v160Zm0 220h160v-160H400v160ZM180-400h160v-160H180v160Zm440 0h160v-160H620v160ZM180-180h160v-160H180v160Zm440 0h160v-160H620v160Z\"/>\n",
              "  </svg>\n",
              "    </button>\n",
              "\n",
              "  <style>\n",
              "    .colab-df-container {\n",
              "      display:flex;\n",
              "      gap: 12px;\n",
              "    }\n",
              "\n",
              "    .colab-df-convert {\n",
              "      background-color: #E8F0FE;\n",
              "      border: none;\n",
              "      border-radius: 50%;\n",
              "      cursor: pointer;\n",
              "      display: none;\n",
              "      fill: #1967D2;\n",
              "      height: 32px;\n",
              "      padding: 0 0 0 0;\n",
              "      width: 32px;\n",
              "    }\n",
              "\n",
              "    .colab-df-convert:hover {\n",
              "      background-color: #E2EBFA;\n",
              "      box-shadow: 0px 1px 2px rgba(60, 64, 67, 0.3), 0px 1px 3px 1px rgba(60, 64, 67, 0.15);\n",
              "      fill: #174EA6;\n",
              "    }\n",
              "\n",
              "    .colab-df-buttons div {\n",
              "      margin-bottom: 4px;\n",
              "    }\n",
              "\n",
              "    [theme=dark] .colab-df-convert {\n",
              "      background-color: #3B4455;\n",
              "      fill: #D2E3FC;\n",
              "    }\n",
              "\n",
              "    [theme=dark] .colab-df-convert:hover {\n",
              "      background-color: #434B5C;\n",
              "      box-shadow: 0px 1px 3px 1px rgba(0, 0, 0, 0.15);\n",
              "      filter: drop-shadow(0px 1px 2px rgba(0, 0, 0, 0.3));\n",
              "      fill: #FFFFFF;\n",
              "    }\n",
              "  </style>\n",
              "\n",
              "    <script>\n",
              "      const buttonEl =\n",
              "        document.querySelector('#df-cb8f67f8-81a5-4416-8be9-0e719a0251a3 button.colab-df-convert');\n",
              "      buttonEl.style.display =\n",
              "        google.colab.kernel.accessAllowed ? 'block' : 'none';\n",
              "\n",
              "      async function convertToInteractive(key) {\n",
              "        const element = document.querySelector('#df-cb8f67f8-81a5-4416-8be9-0e719a0251a3');\n",
              "        const dataTable =\n",
              "          await google.colab.kernel.invokeFunction('convertToInteractive',\n",
              "                                                    [key], {});\n",
              "        if (!dataTable) return;\n",
              "\n",
              "        const docLinkHtml = 'Like what you see? Visit the ' +\n",
              "          '<a target=\"_blank\" href=https://colab.research.google.com/notebooks/data_table.ipynb>data table notebook</a>'\n",
              "          + ' to learn more about interactive tables.';\n",
              "        element.innerHTML = '';\n",
              "        dataTable['output_type'] = 'display_data';\n",
              "        await google.colab.output.renderOutput(dataTable, element);\n",
              "        const docLink = document.createElement('div');\n",
              "        docLink.innerHTML = docLinkHtml;\n",
              "        element.appendChild(docLink);\n",
              "      }\n",
              "    </script>\n",
              "  </div>\n",
              "\n",
              "\n",
              "<div id=\"df-357b66b5-d5fd-4f1e-a91a-c5b27ead9d02\">\n",
              "  <button class=\"colab-df-quickchart\" onclick=\"quickchart('df-357b66b5-d5fd-4f1e-a91a-c5b27ead9d02')\"\n",
              "            title=\"Suggest charts\"\n",
              "            style=\"display:none;\">\n",
              "\n",
              "<svg xmlns=\"http://www.w3.org/2000/svg\" height=\"24px\"viewBox=\"0 0 24 24\"\n",
              "     width=\"24px\">\n",
              "    <g>\n",
              "        <path d=\"M19 3H5c-1.1 0-2 .9-2 2v14c0 1.1.9 2 2 2h14c1.1 0 2-.9 2-2V5c0-1.1-.9-2-2-2zM9 17H7v-7h2v7zm4 0h-2V7h2v10zm4 0h-2v-4h2v4z\"/>\n",
              "    </g>\n",
              "</svg>\n",
              "  </button>\n",
              "\n",
              "<style>\n",
              "  .colab-df-quickchart {\n",
              "      --bg-color: #E8F0FE;\n",
              "      --fill-color: #1967D2;\n",
              "      --hover-bg-color: #E2EBFA;\n",
              "      --hover-fill-color: #174EA6;\n",
              "      --disabled-fill-color: #AAA;\n",
              "      --disabled-bg-color: #DDD;\n",
              "  }\n",
              "\n",
              "  [theme=dark] .colab-df-quickchart {\n",
              "      --bg-color: #3B4455;\n",
              "      --fill-color: #D2E3FC;\n",
              "      --hover-bg-color: #434B5C;\n",
              "      --hover-fill-color: #FFFFFF;\n",
              "      --disabled-bg-color: #3B4455;\n",
              "      --disabled-fill-color: #666;\n",
              "  }\n",
              "\n",
              "  .colab-df-quickchart {\n",
              "    background-color: var(--bg-color);\n",
              "    border: none;\n",
              "    border-radius: 50%;\n",
              "    cursor: pointer;\n",
              "    display: none;\n",
              "    fill: var(--fill-color);\n",
              "    height: 32px;\n",
              "    padding: 0;\n",
              "    width: 32px;\n",
              "  }\n",
              "\n",
              "  .colab-df-quickchart:hover {\n",
              "    background-color: var(--hover-bg-color);\n",
              "    box-shadow: 0 1px 2px rgba(60, 64, 67, 0.3), 0 1px 3px 1px rgba(60, 64, 67, 0.15);\n",
              "    fill: var(--button-hover-fill-color);\n",
              "  }\n",
              "\n",
              "  .colab-df-quickchart-complete:disabled,\n",
              "  .colab-df-quickchart-complete:disabled:hover {\n",
              "    background-color: var(--disabled-bg-color);\n",
              "    fill: var(--disabled-fill-color);\n",
              "    box-shadow: none;\n",
              "  }\n",
              "\n",
              "  .colab-df-spinner {\n",
              "    border: 2px solid var(--fill-color);\n",
              "    border-color: transparent;\n",
              "    border-bottom-color: var(--fill-color);\n",
              "    animation:\n",
              "      spin 1s steps(1) infinite;\n",
              "  }\n",
              "\n",
              "  @keyframes spin {\n",
              "    0% {\n",
              "      border-color: transparent;\n",
              "      border-bottom-color: var(--fill-color);\n",
              "      border-left-color: var(--fill-color);\n",
              "    }\n",
              "    20% {\n",
              "      border-color: transparent;\n",
              "      border-left-color: var(--fill-color);\n",
              "      border-top-color: var(--fill-color);\n",
              "    }\n",
              "    30% {\n",
              "      border-color: transparent;\n",
              "      border-left-color: var(--fill-color);\n",
              "      border-top-color: var(--fill-color);\n",
              "      border-right-color: var(--fill-color);\n",
              "    }\n",
              "    40% {\n",
              "      border-color: transparent;\n",
              "      border-right-color: var(--fill-color);\n",
              "      border-top-color: var(--fill-color);\n",
              "    }\n",
              "    60% {\n",
              "      border-color: transparent;\n",
              "      border-right-color: var(--fill-color);\n",
              "    }\n",
              "    80% {\n",
              "      border-color: transparent;\n",
              "      border-right-color: var(--fill-color);\n",
              "      border-bottom-color: var(--fill-color);\n",
              "    }\n",
              "    90% {\n",
              "      border-color: transparent;\n",
              "      border-bottom-color: var(--fill-color);\n",
              "    }\n",
              "  }\n",
              "</style>\n",
              "\n",
              "  <script>\n",
              "    async function quickchart(key) {\n",
              "      const quickchartButtonEl =\n",
              "        document.querySelector('#' + key + ' button');\n",
              "      quickchartButtonEl.disabled = true;  // To prevent multiple clicks.\n",
              "      quickchartButtonEl.classList.add('colab-df-spinner');\n",
              "      try {\n",
              "        const charts = await google.colab.kernel.invokeFunction(\n",
              "            'suggestCharts', [key], {});\n",
              "      } catch (error) {\n",
              "        console.error('Error during call to suggestCharts:', error);\n",
              "      }\n",
              "      quickchartButtonEl.classList.remove('colab-df-spinner');\n",
              "      quickchartButtonEl.classList.add('colab-df-quickchart-complete');\n",
              "    }\n",
              "    (() => {\n",
              "      let quickchartButtonEl =\n",
              "        document.querySelector('#df-357b66b5-d5fd-4f1e-a91a-c5b27ead9d02 button');\n",
              "      quickchartButtonEl.style.display =\n",
              "        google.colab.kernel.accessAllowed ? 'block' : 'none';\n",
              "    })();\n",
              "  </script>\n",
              "</div>\n",
              "\n",
              "    </div>\n",
              "  </div>\n"
            ]
          },
          "metadata": {},
          "execution_count": 106
        }
      ]
    },
    {
      "cell_type": "markdown",
      "source": [
        "The output above provides a concise and brief overview of the dataset\n"
      ],
      "metadata": {
        "id": "6KcgyEudhgOU"
      }
    },
    {
      "cell_type": "markdown",
      "source": [
        "### Info and Shape of the dataset"
      ],
      "metadata": {
        "id": "mQGgtv9DoLdS"
      }
    },
    {
      "cell_type": "code",
      "source": [
        "print(df.shape)\n",
        "print('\\n')\n",
        "df.info()"
      ],
      "metadata": {
        "colab": {
          "base_uri": "https://localhost:8080/"
        },
        "id": "DtqlFna7oaKK",
        "outputId": "ac4533cc-39c2-489c-a607-2909d797dcae"
      },
      "execution_count": 107,
      "outputs": [
        {
          "output_type": "stream",
          "name": "stdout",
          "text": [
            "(14855, 5)\n",
            "\n",
            "\n",
            "<class 'pandas.core.frame.DataFrame'>\n",
            "RangeIndex: 14855 entries, 0 to 14854\n",
            "Data columns (total 5 columns):\n",
            " #   Column      Non-Null Count  Dtype  \n",
            "---  ------      --------------  -----  \n",
            " 0   Anime_name  14855 non-null  object \n",
            " 1   episode     14855 non-null  object \n",
            " 2   duration    14855 non-null  object \n",
            " 3   members     14855 non-null  object \n",
            " 4   Score       14850 non-null  float64\n",
            "dtypes: float64(1), object(4)\n",
            "memory usage: 580.4+ KB\n"
          ]
        }
      ]
    },
    {
      "cell_type": "markdown",
      "source": [
        "The dataset has a shape of (14855, 5), which indicates that there are 14,850 rows and 5 columns.The dataset consists of a mix of float64 and object data types."
      ],
      "metadata": {
        "id": "HBcWn8gVpHWb"
      }
    },
    {
      "cell_type": "markdown",
      "source": [
        "The above output shows that out of 5 features available in the dataset, 4 are of object data type and one is of float."
      ],
      "metadata": {
        "id": "_ZK4wxGar0DH"
      }
    },
    {
      "cell_type": "markdown",
      "source": [
        "## Features of the Dataset"
      ],
      "metadata": {
        "id": "lYMZY06HiBE9"
      }
    },
    {
      "cell_type": "code",
      "source": [
        "list_columns=df.columns.tolist()\n",
        "print(list_columns)"
      ],
      "metadata": {
        "colab": {
          "base_uri": "https://localhost:8080/"
        },
        "id": "fgwMFZ7vijVd",
        "outputId": "b464d004-9eda-453b-b8c3-63d0bd4e9c9b"
      },
      "execution_count": 108,
      "outputs": [
        {
          "output_type": "stream",
          "name": "stdout",
          "text": [
            "['Anime_name', 'episode', 'duration', 'members', 'Score']\n"
          ]
        }
      ]
    },
    {
      "cell_type": "markdown",
      "source": [
        "\n",
        "The dataset provides insights into various anime entries, offering a comprehensive look at each record.\n",
        "\n",
        "**Key features include:**\n",
        "\n",
        "\n",
        "*  Anime_name: The designated title of the anime\n",
        "*  Episode: The count of episodes in the anime series.\n",
        "*   Duration: The time span of the anime's release.\n",
        "*  Members: The total number of associated members for the anime.\n",
        "*  Score: The assigned rating score for the anime.\n",
        "\n",
        "\n",
        "\n",
        "\n",
        "\n"
      ],
      "metadata": {
        "id": "iwxU6UfdjUAV"
      }
    },
    {
      "cell_type": "markdown",
      "source": [
        "# Handling Missing data\n",
        "After gaining familiarity with our dataset, the subsequent objective is to identify areas where information is missing. We'll initiate this process by locating these gaps throughout our entire dataset"
      ],
      "metadata": {
        "id": "tEFJ5uGUlDDu"
      }
    },
    {
      "cell_type": "markdown",
      "source": [
        " **Checking for missing values**"
      ],
      "metadata": {
        "id": "iu5f_Lp8lpnz"
      }
    },
    {
      "cell_type": "code",
      "source": [
        "df.isna().sum()"
      ],
      "metadata": {
        "colab": {
          "base_uri": "https://localhost:8080/"
        },
        "id": "foR44attmp3U",
        "outputId": "8424159d-10f3-4c18-fba5-a4a01368f52c"
      },
      "execution_count": 109,
      "outputs": [
        {
          "output_type": "execute_result",
          "data": {
            "text/plain": [
              "Anime_name    0\n",
              "episode       0\n",
              "duration      0\n",
              "members       0\n",
              "Score         5\n",
              "dtype: int64"
            ]
          },
          "metadata": {},
          "execution_count": 109
        }
      ]
    },
    {
      "cell_type": "markdown",
      "source": [
        "Based on the obtained result, it's evident that our dataset has around 5 missing values."
      ],
      "metadata": {
        "id": "U05Koi_Lmz_R"
      }
    },
    {
      "cell_type": "code",
      "source": [
        "df[\"Score\"].fillna(df[\"Score\"].median(),inplace=True)"
      ],
      "metadata": {
        "id": "xzTC2Xr3HRQQ"
      },
      "execution_count": 111,
      "outputs": []
    },
    {
      "cell_type": "markdown",
      "source": [
        "**Checking for duplicate values**"
      ],
      "metadata": {
        "id": "-g0FXLnY_pEL"
      }
    },
    {
      "cell_type": "code",
      "source": [
        "duplicates = df.duplicated()\n",
        "print(f\"The total number of duplicate values in the dataset is {duplicates.sum()}\")"
      ],
      "metadata": {
        "colab": {
          "base_uri": "https://localhost:8080/"
        },
        "id": "ZaSe9zL8APpb",
        "outputId": "045804bc-df06-46ee-c698-2daf0c9e651d"
      },
      "execution_count": 112,
      "outputs": [
        {
          "output_type": "stream",
          "name": "stdout",
          "text": [
            "The total number of duplicate values in the dataset is 14471\n"
          ]
        }
      ]
    },
    {
      "cell_type": "markdown",
      "source": [
        "**Removing duplicates values**"
      ],
      "metadata": {
        "id": "ZKGSKoy2V3p6"
      }
    },
    {
      "cell_type": "code",
      "source": [
        "df.drop_duplicates(keep='first', inplace=True)\n",
        "print(f\"The total number of duplicate values in the dataset is {df.duplicated().sum()}\")\n"
      ],
      "metadata": {
        "colab": {
          "base_uri": "https://localhost:8080/"
        },
        "id": "Gc1YimU--uMt",
        "outputId": "f5892074-eeff-4a9c-b627-b9aa36ea5fa4"
      },
      "execution_count": 113,
      "outputs": [
        {
          "output_type": "stream",
          "name": "stdout",
          "text": [
            "The total number of duplicate values in the dataset is 0\n"
          ]
        }
      ]
    },
    {
      "cell_type": "markdown",
      "source": [
        "**Modifying and Creating new columns**"
      ],
      "metadata": {
        "id": "TIrxpg4O-t7E"
      }
    },
    {
      "cell_type": "code",
      "source": [
        "df['Show_Format'] = df['episode'].str.extract('(\\w+)').astype('category')\n",
        "df['episode'] = df['episode'].str.extract('(\\d+)').astype(float)\n",
        "df['members'] = df['members'].str.replace(',', '').str.extract('(\\d+)').astype(float)\n",
        "df.head()"
      ],
      "metadata": {
        "id": "JwqbdNSyYZPr",
        "colab": {
          "base_uri": "https://localhost:8080/",
          "height": 204
        },
        "outputId": "a7c81d56-6141-47f7-c7c2-7dbcbcb7a117"
      },
      "execution_count": 114,
      "outputs": [
        {
          "output_type": "execute_result",
          "data": {
            "text/plain": [
              "                           Anime_name  episode             duration  \\\n",
              "0    Fullmetal Alchemist: Brotherhood     64.0  Apr 2009 - Jul 2010   \n",
              "1                         Steins;Gate     24.0  Apr 2011 - Sep 2011   \n",
              "2                            Gintama°     51.0  Apr 2015 - Mar 2016   \n",
              "3  Shingeki no Kyojin Season 3 Part 2     10.0  Apr 2019 - Jul 2019   \n",
              "4           Bleach: Sennen Kessen-hen     13.0  Oct 2022 - Dec 2022   \n",
              "\n",
              "     members  Score Show_Format  \n",
              "0  3263142.0   9.09          TV  \n",
              "1  2505884.0   9.07          TV  \n",
              "2   614907.0   9.06          TV  \n",
              "3  2195508.0   9.05          TV  \n",
              "4   501080.0   9.04          TV  "
            ],
            "text/html": [
              "\n",
              "  <div id=\"df-d964c50f-81e5-41bf-a814-fac736001744\" class=\"colab-df-container\">\n",
              "    <div>\n",
              "<style scoped>\n",
              "    .dataframe tbody tr th:only-of-type {\n",
              "        vertical-align: middle;\n",
              "    }\n",
              "\n",
              "    .dataframe tbody tr th {\n",
              "        vertical-align: top;\n",
              "    }\n",
              "\n",
              "    .dataframe thead th {\n",
              "        text-align: right;\n",
              "    }\n",
              "</style>\n",
              "<table border=\"1\" class=\"dataframe\">\n",
              "  <thead>\n",
              "    <tr style=\"text-align: right;\">\n",
              "      <th></th>\n",
              "      <th>Anime_name</th>\n",
              "      <th>episode</th>\n",
              "      <th>duration</th>\n",
              "      <th>members</th>\n",
              "      <th>Score</th>\n",
              "      <th>Show_Format</th>\n",
              "    </tr>\n",
              "  </thead>\n",
              "  <tbody>\n",
              "    <tr>\n",
              "      <th>0</th>\n",
              "      <td>Fullmetal Alchemist: Brotherhood</td>\n",
              "      <td>64.0</td>\n",
              "      <td>Apr 2009 - Jul 2010</td>\n",
              "      <td>3263142.0</td>\n",
              "      <td>9.09</td>\n",
              "      <td>TV</td>\n",
              "    </tr>\n",
              "    <tr>\n",
              "      <th>1</th>\n",
              "      <td>Steins;Gate</td>\n",
              "      <td>24.0</td>\n",
              "      <td>Apr 2011 - Sep 2011</td>\n",
              "      <td>2505884.0</td>\n",
              "      <td>9.07</td>\n",
              "      <td>TV</td>\n",
              "    </tr>\n",
              "    <tr>\n",
              "      <th>2</th>\n",
              "      <td>Gintama°</td>\n",
              "      <td>51.0</td>\n",
              "      <td>Apr 2015 - Mar 2016</td>\n",
              "      <td>614907.0</td>\n",
              "      <td>9.06</td>\n",
              "      <td>TV</td>\n",
              "    </tr>\n",
              "    <tr>\n",
              "      <th>3</th>\n",
              "      <td>Shingeki no Kyojin Season 3 Part 2</td>\n",
              "      <td>10.0</td>\n",
              "      <td>Apr 2019 - Jul 2019</td>\n",
              "      <td>2195508.0</td>\n",
              "      <td>9.05</td>\n",
              "      <td>TV</td>\n",
              "    </tr>\n",
              "    <tr>\n",
              "      <th>4</th>\n",
              "      <td>Bleach: Sennen Kessen-hen</td>\n",
              "      <td>13.0</td>\n",
              "      <td>Oct 2022 - Dec 2022</td>\n",
              "      <td>501080.0</td>\n",
              "      <td>9.04</td>\n",
              "      <td>TV</td>\n",
              "    </tr>\n",
              "  </tbody>\n",
              "</table>\n",
              "</div>\n",
              "    <div class=\"colab-df-buttons\">\n",
              "\n",
              "  <div class=\"colab-df-container\">\n",
              "    <button class=\"colab-df-convert\" onclick=\"convertToInteractive('df-d964c50f-81e5-41bf-a814-fac736001744')\"\n",
              "            title=\"Convert this dataframe to an interactive table.\"\n",
              "            style=\"display:none;\">\n",
              "\n",
              "  <svg xmlns=\"http://www.w3.org/2000/svg\" height=\"24px\" viewBox=\"0 -960 960 960\">\n",
              "    <path d=\"M120-120v-720h720v720H120Zm60-500h600v-160H180v160Zm220 220h160v-160H400v160Zm0 220h160v-160H400v160ZM180-400h160v-160H180v160Zm440 0h160v-160H620v160ZM180-180h160v-160H180v160Zm440 0h160v-160H620v160Z\"/>\n",
              "  </svg>\n",
              "    </button>\n",
              "\n",
              "  <style>\n",
              "    .colab-df-container {\n",
              "      display:flex;\n",
              "      gap: 12px;\n",
              "    }\n",
              "\n",
              "    .colab-df-convert {\n",
              "      background-color: #E8F0FE;\n",
              "      border: none;\n",
              "      border-radius: 50%;\n",
              "      cursor: pointer;\n",
              "      display: none;\n",
              "      fill: #1967D2;\n",
              "      height: 32px;\n",
              "      padding: 0 0 0 0;\n",
              "      width: 32px;\n",
              "    }\n",
              "\n",
              "    .colab-df-convert:hover {\n",
              "      background-color: #E2EBFA;\n",
              "      box-shadow: 0px 1px 2px rgba(60, 64, 67, 0.3), 0px 1px 3px 1px rgba(60, 64, 67, 0.15);\n",
              "      fill: #174EA6;\n",
              "    }\n",
              "\n",
              "    .colab-df-buttons div {\n",
              "      margin-bottom: 4px;\n",
              "    }\n",
              "\n",
              "    [theme=dark] .colab-df-convert {\n",
              "      background-color: #3B4455;\n",
              "      fill: #D2E3FC;\n",
              "    }\n",
              "\n",
              "    [theme=dark] .colab-df-convert:hover {\n",
              "      background-color: #434B5C;\n",
              "      box-shadow: 0px 1px 3px 1px rgba(0, 0, 0, 0.15);\n",
              "      filter: drop-shadow(0px 1px 2px rgba(0, 0, 0, 0.3));\n",
              "      fill: #FFFFFF;\n",
              "    }\n",
              "  </style>\n",
              "\n",
              "    <script>\n",
              "      const buttonEl =\n",
              "        document.querySelector('#df-d964c50f-81e5-41bf-a814-fac736001744 button.colab-df-convert');\n",
              "      buttonEl.style.display =\n",
              "        google.colab.kernel.accessAllowed ? 'block' : 'none';\n",
              "\n",
              "      async function convertToInteractive(key) {\n",
              "        const element = document.querySelector('#df-d964c50f-81e5-41bf-a814-fac736001744');\n",
              "        const dataTable =\n",
              "          await google.colab.kernel.invokeFunction('convertToInteractive',\n",
              "                                                    [key], {});\n",
              "        if (!dataTable) return;\n",
              "\n",
              "        const docLinkHtml = 'Like what you see? Visit the ' +\n",
              "          '<a target=\"_blank\" href=https://colab.research.google.com/notebooks/data_table.ipynb>data table notebook</a>'\n",
              "          + ' to learn more about interactive tables.';\n",
              "        element.innerHTML = '';\n",
              "        dataTable['output_type'] = 'display_data';\n",
              "        await google.colab.output.renderOutput(dataTable, element);\n",
              "        const docLink = document.createElement('div');\n",
              "        docLink.innerHTML = docLinkHtml;\n",
              "        element.appendChild(docLink);\n",
              "      }\n",
              "    </script>\n",
              "  </div>\n",
              "\n",
              "\n",
              "<div id=\"df-206b163b-8e11-4949-a709-49b3a4718791\">\n",
              "  <button class=\"colab-df-quickchart\" onclick=\"quickchart('df-206b163b-8e11-4949-a709-49b3a4718791')\"\n",
              "            title=\"Suggest charts\"\n",
              "            style=\"display:none;\">\n",
              "\n",
              "<svg xmlns=\"http://www.w3.org/2000/svg\" height=\"24px\"viewBox=\"0 0 24 24\"\n",
              "     width=\"24px\">\n",
              "    <g>\n",
              "        <path d=\"M19 3H5c-1.1 0-2 .9-2 2v14c0 1.1.9 2 2 2h14c1.1 0 2-.9 2-2V5c0-1.1-.9-2-2-2zM9 17H7v-7h2v7zm4 0h-2V7h2v10zm4 0h-2v-4h2v4z\"/>\n",
              "    </g>\n",
              "</svg>\n",
              "  </button>\n",
              "\n",
              "<style>\n",
              "  .colab-df-quickchart {\n",
              "      --bg-color: #E8F0FE;\n",
              "      --fill-color: #1967D2;\n",
              "      --hover-bg-color: #E2EBFA;\n",
              "      --hover-fill-color: #174EA6;\n",
              "      --disabled-fill-color: #AAA;\n",
              "      --disabled-bg-color: #DDD;\n",
              "  }\n",
              "\n",
              "  [theme=dark] .colab-df-quickchart {\n",
              "      --bg-color: #3B4455;\n",
              "      --fill-color: #D2E3FC;\n",
              "      --hover-bg-color: #434B5C;\n",
              "      --hover-fill-color: #FFFFFF;\n",
              "      --disabled-bg-color: #3B4455;\n",
              "      --disabled-fill-color: #666;\n",
              "  }\n",
              "\n",
              "  .colab-df-quickchart {\n",
              "    background-color: var(--bg-color);\n",
              "    border: none;\n",
              "    border-radius: 50%;\n",
              "    cursor: pointer;\n",
              "    display: none;\n",
              "    fill: var(--fill-color);\n",
              "    height: 32px;\n",
              "    padding: 0;\n",
              "    width: 32px;\n",
              "  }\n",
              "\n",
              "  .colab-df-quickchart:hover {\n",
              "    background-color: var(--hover-bg-color);\n",
              "    box-shadow: 0 1px 2px rgba(60, 64, 67, 0.3), 0 1px 3px 1px rgba(60, 64, 67, 0.15);\n",
              "    fill: var(--button-hover-fill-color);\n",
              "  }\n",
              "\n",
              "  .colab-df-quickchart-complete:disabled,\n",
              "  .colab-df-quickchart-complete:disabled:hover {\n",
              "    background-color: var(--disabled-bg-color);\n",
              "    fill: var(--disabled-fill-color);\n",
              "    box-shadow: none;\n",
              "  }\n",
              "\n",
              "  .colab-df-spinner {\n",
              "    border: 2px solid var(--fill-color);\n",
              "    border-color: transparent;\n",
              "    border-bottom-color: var(--fill-color);\n",
              "    animation:\n",
              "      spin 1s steps(1) infinite;\n",
              "  }\n",
              "\n",
              "  @keyframes spin {\n",
              "    0% {\n",
              "      border-color: transparent;\n",
              "      border-bottom-color: var(--fill-color);\n",
              "      border-left-color: var(--fill-color);\n",
              "    }\n",
              "    20% {\n",
              "      border-color: transparent;\n",
              "      border-left-color: var(--fill-color);\n",
              "      border-top-color: var(--fill-color);\n",
              "    }\n",
              "    30% {\n",
              "      border-color: transparent;\n",
              "      border-left-color: var(--fill-color);\n",
              "      border-top-color: var(--fill-color);\n",
              "      border-right-color: var(--fill-color);\n",
              "    }\n",
              "    40% {\n",
              "      border-color: transparent;\n",
              "      border-right-color: var(--fill-color);\n",
              "      border-top-color: var(--fill-color);\n",
              "    }\n",
              "    60% {\n",
              "      border-color: transparent;\n",
              "      border-right-color: var(--fill-color);\n",
              "    }\n",
              "    80% {\n",
              "      border-color: transparent;\n",
              "      border-right-color: var(--fill-color);\n",
              "      border-bottom-color: var(--fill-color);\n",
              "    }\n",
              "    90% {\n",
              "      border-color: transparent;\n",
              "      border-bottom-color: var(--fill-color);\n",
              "    }\n",
              "  }\n",
              "</style>\n",
              "\n",
              "  <script>\n",
              "    async function quickchart(key) {\n",
              "      const quickchartButtonEl =\n",
              "        document.querySelector('#' + key + ' button');\n",
              "      quickchartButtonEl.disabled = true;  // To prevent multiple clicks.\n",
              "      quickchartButtonEl.classList.add('colab-df-spinner');\n",
              "      try {\n",
              "        const charts = await google.colab.kernel.invokeFunction(\n",
              "            'suggestCharts', [key], {});\n",
              "      } catch (error) {\n",
              "        console.error('Error during call to suggestCharts:', error);\n",
              "      }\n",
              "      quickchartButtonEl.classList.remove('colab-df-spinner');\n",
              "      quickchartButtonEl.classList.add('colab-df-quickchart-complete');\n",
              "    }\n",
              "    (() => {\n",
              "      let quickchartButtonEl =\n",
              "        document.querySelector('#df-206b163b-8e11-4949-a709-49b3a4718791 button');\n",
              "      quickchartButtonEl.style.display =\n",
              "        google.colab.kernel.accessAllowed ? 'block' : 'none';\n",
              "    })();\n",
              "  </script>\n",
              "</div>\n",
              "\n",
              "    </div>\n",
              "  </div>\n"
            ]
          },
          "metadata": {},
          "execution_count": 114
        }
      ]
    },
    {
      "cell_type": "markdown",
      "source": [
        "Here, the numeric and categorical values within the columns have been segregated into separate columns."
      ],
      "metadata": {
        "id": "i-PqyYu1iYMb"
      }
    },
    {
      "cell_type": "code",
      "source": [
        "df['Start_Date'] = pd.to_datetime(df['duration'].str.split(' - ').str[0])\n",
        "df['End_Date'] = pd.to_datetime(df['duration'].str.split(' - ').str[1])\n",
        "df['Duration_Months'] = (df['End_Date'] - df['Start_Date']).dt.days // 30\n",
        "df = df.drop(['Start_Date', 'End_Date','duration'], axis=1)\n",
        "df.head()"
      ],
      "metadata": {
        "id": "bFbyoyBa4HmD",
        "colab": {
          "base_uri": "https://localhost:8080/",
          "height": 204
        },
        "outputId": "e167ed32-4080-4c61-d7d4-af10d7466ea5"
      },
      "execution_count": 115,
      "outputs": [
        {
          "output_type": "execute_result",
          "data": {
            "text/plain": [
              "                           Anime_name  episode    members  Score Show_Format  \\\n",
              "0    Fullmetal Alchemist: Brotherhood     64.0  3263142.0   9.09          TV   \n",
              "1                         Steins;Gate     24.0  2505884.0   9.07          TV   \n",
              "2                            Gintama°     51.0   614907.0   9.06          TV   \n",
              "3  Shingeki no Kyojin Season 3 Part 2     10.0  2195508.0   9.05          TV   \n",
              "4           Bleach: Sennen Kessen-hen     13.0   501080.0   9.04          TV   \n",
              "\n",
              "   Duration_Months  \n",
              "0             15.0  \n",
              "1              5.0  \n",
              "2             11.0  \n",
              "3              3.0  \n",
              "4              2.0  "
            ],
            "text/html": [
              "\n",
              "  <div id=\"df-66974f39-a981-47e2-9675-55b55f0e7862\" class=\"colab-df-container\">\n",
              "    <div>\n",
              "<style scoped>\n",
              "    .dataframe tbody tr th:only-of-type {\n",
              "        vertical-align: middle;\n",
              "    }\n",
              "\n",
              "    .dataframe tbody tr th {\n",
              "        vertical-align: top;\n",
              "    }\n",
              "\n",
              "    .dataframe thead th {\n",
              "        text-align: right;\n",
              "    }\n",
              "</style>\n",
              "<table border=\"1\" class=\"dataframe\">\n",
              "  <thead>\n",
              "    <tr style=\"text-align: right;\">\n",
              "      <th></th>\n",
              "      <th>Anime_name</th>\n",
              "      <th>episode</th>\n",
              "      <th>members</th>\n",
              "      <th>Score</th>\n",
              "      <th>Show_Format</th>\n",
              "      <th>Duration_Months</th>\n",
              "    </tr>\n",
              "  </thead>\n",
              "  <tbody>\n",
              "    <tr>\n",
              "      <th>0</th>\n",
              "      <td>Fullmetal Alchemist: Brotherhood</td>\n",
              "      <td>64.0</td>\n",
              "      <td>3263142.0</td>\n",
              "      <td>9.09</td>\n",
              "      <td>TV</td>\n",
              "      <td>15.0</td>\n",
              "    </tr>\n",
              "    <tr>\n",
              "      <th>1</th>\n",
              "      <td>Steins;Gate</td>\n",
              "      <td>24.0</td>\n",
              "      <td>2505884.0</td>\n",
              "      <td>9.07</td>\n",
              "      <td>TV</td>\n",
              "      <td>5.0</td>\n",
              "    </tr>\n",
              "    <tr>\n",
              "      <th>2</th>\n",
              "      <td>Gintama°</td>\n",
              "      <td>51.0</td>\n",
              "      <td>614907.0</td>\n",
              "      <td>9.06</td>\n",
              "      <td>TV</td>\n",
              "      <td>11.0</td>\n",
              "    </tr>\n",
              "    <tr>\n",
              "      <th>3</th>\n",
              "      <td>Shingeki no Kyojin Season 3 Part 2</td>\n",
              "      <td>10.0</td>\n",
              "      <td>2195508.0</td>\n",
              "      <td>9.05</td>\n",
              "      <td>TV</td>\n",
              "      <td>3.0</td>\n",
              "    </tr>\n",
              "    <tr>\n",
              "      <th>4</th>\n",
              "      <td>Bleach: Sennen Kessen-hen</td>\n",
              "      <td>13.0</td>\n",
              "      <td>501080.0</td>\n",
              "      <td>9.04</td>\n",
              "      <td>TV</td>\n",
              "      <td>2.0</td>\n",
              "    </tr>\n",
              "  </tbody>\n",
              "</table>\n",
              "</div>\n",
              "    <div class=\"colab-df-buttons\">\n",
              "\n",
              "  <div class=\"colab-df-container\">\n",
              "    <button class=\"colab-df-convert\" onclick=\"convertToInteractive('df-66974f39-a981-47e2-9675-55b55f0e7862')\"\n",
              "            title=\"Convert this dataframe to an interactive table.\"\n",
              "            style=\"display:none;\">\n",
              "\n",
              "  <svg xmlns=\"http://www.w3.org/2000/svg\" height=\"24px\" viewBox=\"0 -960 960 960\">\n",
              "    <path d=\"M120-120v-720h720v720H120Zm60-500h600v-160H180v160Zm220 220h160v-160H400v160Zm0 220h160v-160H400v160ZM180-400h160v-160H180v160Zm440 0h160v-160H620v160ZM180-180h160v-160H180v160Zm440 0h160v-160H620v160Z\"/>\n",
              "  </svg>\n",
              "    </button>\n",
              "\n",
              "  <style>\n",
              "    .colab-df-container {\n",
              "      display:flex;\n",
              "      gap: 12px;\n",
              "    }\n",
              "\n",
              "    .colab-df-convert {\n",
              "      background-color: #E8F0FE;\n",
              "      border: none;\n",
              "      border-radius: 50%;\n",
              "      cursor: pointer;\n",
              "      display: none;\n",
              "      fill: #1967D2;\n",
              "      height: 32px;\n",
              "      padding: 0 0 0 0;\n",
              "      width: 32px;\n",
              "    }\n",
              "\n",
              "    .colab-df-convert:hover {\n",
              "      background-color: #E2EBFA;\n",
              "      box-shadow: 0px 1px 2px rgba(60, 64, 67, 0.3), 0px 1px 3px 1px rgba(60, 64, 67, 0.15);\n",
              "      fill: #174EA6;\n",
              "    }\n",
              "\n",
              "    .colab-df-buttons div {\n",
              "      margin-bottom: 4px;\n",
              "    }\n",
              "\n",
              "    [theme=dark] .colab-df-convert {\n",
              "      background-color: #3B4455;\n",
              "      fill: #D2E3FC;\n",
              "    }\n",
              "\n",
              "    [theme=dark] .colab-df-convert:hover {\n",
              "      background-color: #434B5C;\n",
              "      box-shadow: 0px 1px 3px 1px rgba(0, 0, 0, 0.15);\n",
              "      filter: drop-shadow(0px 1px 2px rgba(0, 0, 0, 0.3));\n",
              "      fill: #FFFFFF;\n",
              "    }\n",
              "  </style>\n",
              "\n",
              "    <script>\n",
              "      const buttonEl =\n",
              "        document.querySelector('#df-66974f39-a981-47e2-9675-55b55f0e7862 button.colab-df-convert');\n",
              "      buttonEl.style.display =\n",
              "        google.colab.kernel.accessAllowed ? 'block' : 'none';\n",
              "\n",
              "      async function convertToInteractive(key) {\n",
              "        const element = document.querySelector('#df-66974f39-a981-47e2-9675-55b55f0e7862');\n",
              "        const dataTable =\n",
              "          await google.colab.kernel.invokeFunction('convertToInteractive',\n",
              "                                                    [key], {});\n",
              "        if (!dataTable) return;\n",
              "\n",
              "        const docLinkHtml = 'Like what you see? Visit the ' +\n",
              "          '<a target=\"_blank\" href=https://colab.research.google.com/notebooks/data_table.ipynb>data table notebook</a>'\n",
              "          + ' to learn more about interactive tables.';\n",
              "        element.innerHTML = '';\n",
              "        dataTable['output_type'] = 'display_data';\n",
              "        await google.colab.output.renderOutput(dataTable, element);\n",
              "        const docLink = document.createElement('div');\n",
              "        docLink.innerHTML = docLinkHtml;\n",
              "        element.appendChild(docLink);\n",
              "      }\n",
              "    </script>\n",
              "  </div>\n",
              "\n",
              "\n",
              "<div id=\"df-d4744a30-d654-4d60-a0fc-e264a9b2a6c0\">\n",
              "  <button class=\"colab-df-quickchart\" onclick=\"quickchart('df-d4744a30-d654-4d60-a0fc-e264a9b2a6c0')\"\n",
              "            title=\"Suggest charts\"\n",
              "            style=\"display:none;\">\n",
              "\n",
              "<svg xmlns=\"http://www.w3.org/2000/svg\" height=\"24px\"viewBox=\"0 0 24 24\"\n",
              "     width=\"24px\">\n",
              "    <g>\n",
              "        <path d=\"M19 3H5c-1.1 0-2 .9-2 2v14c0 1.1.9 2 2 2h14c1.1 0 2-.9 2-2V5c0-1.1-.9-2-2-2zM9 17H7v-7h2v7zm4 0h-2V7h2v10zm4 0h-2v-4h2v4z\"/>\n",
              "    </g>\n",
              "</svg>\n",
              "  </button>\n",
              "\n",
              "<style>\n",
              "  .colab-df-quickchart {\n",
              "      --bg-color: #E8F0FE;\n",
              "      --fill-color: #1967D2;\n",
              "      --hover-bg-color: #E2EBFA;\n",
              "      --hover-fill-color: #174EA6;\n",
              "      --disabled-fill-color: #AAA;\n",
              "      --disabled-bg-color: #DDD;\n",
              "  }\n",
              "\n",
              "  [theme=dark] .colab-df-quickchart {\n",
              "      --bg-color: #3B4455;\n",
              "      --fill-color: #D2E3FC;\n",
              "      --hover-bg-color: #434B5C;\n",
              "      --hover-fill-color: #FFFFFF;\n",
              "      --disabled-bg-color: #3B4455;\n",
              "      --disabled-fill-color: #666;\n",
              "  }\n",
              "\n",
              "  .colab-df-quickchart {\n",
              "    background-color: var(--bg-color);\n",
              "    border: none;\n",
              "    border-radius: 50%;\n",
              "    cursor: pointer;\n",
              "    display: none;\n",
              "    fill: var(--fill-color);\n",
              "    height: 32px;\n",
              "    padding: 0;\n",
              "    width: 32px;\n",
              "  }\n",
              "\n",
              "  .colab-df-quickchart:hover {\n",
              "    background-color: var(--hover-bg-color);\n",
              "    box-shadow: 0 1px 2px rgba(60, 64, 67, 0.3), 0 1px 3px 1px rgba(60, 64, 67, 0.15);\n",
              "    fill: var(--button-hover-fill-color);\n",
              "  }\n",
              "\n",
              "  .colab-df-quickchart-complete:disabled,\n",
              "  .colab-df-quickchart-complete:disabled:hover {\n",
              "    background-color: var(--disabled-bg-color);\n",
              "    fill: var(--disabled-fill-color);\n",
              "    box-shadow: none;\n",
              "  }\n",
              "\n",
              "  .colab-df-spinner {\n",
              "    border: 2px solid var(--fill-color);\n",
              "    border-color: transparent;\n",
              "    border-bottom-color: var(--fill-color);\n",
              "    animation:\n",
              "      spin 1s steps(1) infinite;\n",
              "  }\n",
              "\n",
              "  @keyframes spin {\n",
              "    0% {\n",
              "      border-color: transparent;\n",
              "      border-bottom-color: var(--fill-color);\n",
              "      border-left-color: var(--fill-color);\n",
              "    }\n",
              "    20% {\n",
              "      border-color: transparent;\n",
              "      border-left-color: var(--fill-color);\n",
              "      border-top-color: var(--fill-color);\n",
              "    }\n",
              "    30% {\n",
              "      border-color: transparent;\n",
              "      border-left-color: var(--fill-color);\n",
              "      border-top-color: var(--fill-color);\n",
              "      border-right-color: var(--fill-color);\n",
              "    }\n",
              "    40% {\n",
              "      border-color: transparent;\n",
              "      border-right-color: var(--fill-color);\n",
              "      border-top-color: var(--fill-color);\n",
              "    }\n",
              "    60% {\n",
              "      border-color: transparent;\n",
              "      border-right-color: var(--fill-color);\n",
              "    }\n",
              "    80% {\n",
              "      border-color: transparent;\n",
              "      border-right-color: var(--fill-color);\n",
              "      border-bottom-color: var(--fill-color);\n",
              "    }\n",
              "    90% {\n",
              "      border-color: transparent;\n",
              "      border-bottom-color: var(--fill-color);\n",
              "    }\n",
              "  }\n",
              "</style>\n",
              "\n",
              "  <script>\n",
              "    async function quickchart(key) {\n",
              "      const quickchartButtonEl =\n",
              "        document.querySelector('#' + key + ' button');\n",
              "      quickchartButtonEl.disabled = true;  // To prevent multiple clicks.\n",
              "      quickchartButtonEl.classList.add('colab-df-spinner');\n",
              "      try {\n",
              "        const charts = await google.colab.kernel.invokeFunction(\n",
              "            'suggestCharts', [key], {});\n",
              "      } catch (error) {\n",
              "        console.error('Error during call to suggestCharts:', error);\n",
              "      }\n",
              "      quickchartButtonEl.classList.remove('colab-df-spinner');\n",
              "      quickchartButtonEl.classList.add('colab-df-quickchart-complete');\n",
              "    }\n",
              "    (() => {\n",
              "      let quickchartButtonEl =\n",
              "        document.querySelector('#df-d4744a30-d654-4d60-a0fc-e264a9b2a6c0 button');\n",
              "      quickchartButtonEl.style.display =\n",
              "        google.colab.kernel.accessAllowed ? 'block' : 'none';\n",
              "    })();\n",
              "  </script>\n",
              "</div>\n",
              "\n",
              "    </div>\n",
              "  </div>\n"
            ]
          },
          "metadata": {},
          "execution_count": 115
        }
      ]
    },
    {
      "cell_type": "markdown",
      "source": [
        "converting the 'Anime_name' column to category type to maintain consistency"
      ],
      "metadata": {
        "id": "mIs4Brhlp3Wu"
      }
    },
    {
      "cell_type": "code",
      "source": [
        "df['Anime_name']=df['Anime_name'].astype('category')"
      ],
      "metadata": {
        "id": "yYjcqwiXpyJH"
      },
      "execution_count": 116,
      "outputs": []
    },
    {
      "cell_type": "markdown",
      "source": [
        "**The new dataset after cleaning**"
      ],
      "metadata": {
        "id": "Rz19Ga8jnSxv"
      }
    },
    {
      "cell_type": "code",
      "source": [
        "print(df.shape)\n",
        "print('\\n')\n",
        "print(list(df.columns))\n",
        "print('\\n')\n",
        "df.info()"
      ],
      "metadata": {
        "colab": {
          "base_uri": "https://localhost:8080/"
        },
        "id": "ryhrnqtbj0b7",
        "outputId": "f7dd410e-03d6-4848-d07c-8ee67f6b720d"
      },
      "execution_count": 117,
      "outputs": [
        {
          "output_type": "stream",
          "name": "stdout",
          "text": [
            "(384, 6)\n",
            "\n",
            "\n",
            "['Anime_name', 'episode', 'members', 'Score', 'Show_Format', 'Duration_Months']\n",
            "\n",
            "\n",
            "<class 'pandas.core.frame.DataFrame'>\n",
            "Int64Index: 384 entries, 0 to 14854\n",
            "Data columns (total 6 columns):\n",
            " #   Column           Non-Null Count  Dtype   \n",
            "---  ------           --------------  -----   \n",
            " 0   Anime_name       384 non-null    category\n",
            " 1   episode          381 non-null    float64 \n",
            " 2   members          384 non-null    float64 \n",
            " 3   Score            384 non-null    float64 \n",
            " 4   Show_Format      384 non-null    category\n",
            " 5   Duration_Months  373 non-null    float64 \n",
            "dtypes: category(2), float64(4)\n",
            "memory usage: 27.2 KB\n"
          ]
        }
      ]
    },
    {
      "cell_type": "markdown",
      "source": [
        "##Summary Statistics:"
      ],
      "metadata": {
        "id": "lTOTdT7BpAvp"
      }
    },
    {
      "cell_type": "markdown",
      "source": [
        "**Spliting the dataset into Numeric and Categorical Columns**"
      ],
      "metadata": {
        "id": "0ZH6CkU5pGeS"
      }
    },
    {
      "cell_type": "code",
      "source": [
        "categorical_columns = df.select_dtypes(include=['category'])\n",
        "numeric_columns = df.select_dtypes(include=['number'])"
      ],
      "metadata": {
        "id": "Vneq6VBRp-Th"
      },
      "execution_count": 118,
      "outputs": []
    },
    {
      "cell_type": "markdown",
      "source": [
        "**statistical information for numeric columns**"
      ],
      "metadata": {
        "id": "YO_A_JAeybaK"
      }
    },
    {
      "cell_type": "code",
      "source": [
        "description=numeric_columns.describe()\n",
        "print(description)"
      ],
      "metadata": {
        "colab": {
          "base_uri": "https://localhost:8080/"
        },
        "id": "-TjaaSL-ylu0",
        "outputId": "87cdbbef-91c5-4cff-f905-e3c130f65c20"
      },
      "execution_count": 119,
      "outputs": [
        {
          "output_type": "stream",
          "name": "stdout",
          "text": [
            "          episode       members       Score  Duration_Months\n",
            "count  381.000000  3.840000e+02  384.000000       373.000000\n",
            "mean    17.879265  6.308742e+05    8.466823         4.573727\n",
            "std     32.640806  6.732057e+05    0.211508        10.769484\n",
            "min      1.000000  8.904000e+03    8.210000         0.000000\n",
            "25%      1.000000  1.813775e+05    8.300000         0.000000\n",
            "50%     12.000000  3.925050e+05    8.410000         2.000000\n",
            "75%     24.000000  8.297448e+05    8.590000         5.000000\n",
            "max    500.000000  3.848692e+06    9.090000       122.000000\n"
          ]
        }
      ]
    },
    {
      "cell_type": "markdown",
      "source": [
        " The above code provides summary statistics of the central tendency, dispersion, and shape of the distribution of a dataset of numerical dtype.\n",
        "\n",
        " **Key observations:**\n",
        "\n",
        "\n",
        "*   The ‘episode’ column exhibits a wide range of values (1-500), with a notable concentration at\n",
        "the lower side.\n",
        "*  Score tends to lean towards the range of 8.21 to 8.59 as indicated by the percentiles.\n",
        "\n",
        "*   The ‘members’ column indicates a wide range of values reflecting the varying level of\n",
        "audience engagement.\n",
        "*   The ‘Duration_Months’ provides insight into the duration period of the anime, with considerable amount having 0 months, indicating shorter formats like Movies or Specials.\n",
        "\n",
        "\n",
        "\n",
        "\n"
      ],
      "metadata": {
        "id": "NJ6H7Ndp40KW"
      }
    },
    {
      "cell_type": "markdown",
      "source": [
        "**For categorical columns**"
      ],
      "metadata": {
        "id": "hdrWlgGw3ZfO"
      }
    },
    {
      "cell_type": "code",
      "source": [
        "description=categorical_columns.describe()\n",
        "print(description)"
      ],
      "metadata": {
        "colab": {
          "base_uri": "https://localhost:8080/"
        },
        "id": "syj2f9uD3exW",
        "outputId": "cd1d9b9a-2371-47a3-b67f-101f40230d4b"
      },
      "execution_count": 122,
      "outputs": [
        {
          "output_type": "stream",
          "name": "stdout",
          "text": [
            "                                             Anime_name Show_Format\n",
            "count                                               384         384\n",
            "unique                                              348           5\n",
            "top     Kage no Jitsuryokusha ni Naritakute! 2nd Season          TV\n",
            "freq                                                  5         251\n"
          ]
        }
      ]
    },
    {
      "cell_type": "markdown",
      "source": [
        "The following significant findings are obtained from the categorical data analysis:\n",
        "\n",
        "\n",
        "\n",
        "*   **'Anime_name'** contains 348 unique values indicating diverse array of anime in the dataset.\n",
        "\n",
        "*  **'Show_Format'**  has 5 unique values representing different show formats with “TV” being the\n",
        "most prevalent.\n",
        "\n",
        "\n",
        "\n",
        "\n"
      ],
      "metadata": {
        "id": "RA5-8NEu5NOk"
      }
    },
    {
      "cell_type": "markdown",
      "source": [
        "## Data Visualization"
      ],
      "metadata": {
        "id": "SOxLd4ax_bRx"
      }
    },
    {
      "cell_type": "markdown",
      "source": [
        "**Univariate Analysis**"
      ],
      "metadata": {
        "id": "YC7zwXzdYO2x"
      }
    },
    {
      "cell_type": "markdown",
      "source": [
        "**For categorical Variable**"
      ],
      "metadata": {
        "id": "_u-U4rUjYUQU"
      }
    },
    {
      "cell_type": "code",
      "source": [
        "plt.figure(figsize=(20, 6))\n",
        "sns.countplot(x='Show_Format', data=df, palette='viridis')\n",
        "plt.title('Distribution of show formats')\n",
        "plt.show()\n",
        "df[\"Show_Format\"].value_counts()"
      ],
      "metadata": {
        "colab": {
          "base_uri": "https://localhost:8080/",
          "height": 444
        },
        "id": "CUtjasKV-3v-",
        "outputId": "4fd327d4-2947-4b51-be6f-af5c301ba17b"
      },
      "execution_count": 123,
      "outputs": [
        {
          "output_type": "display_data",
          "data": {
            "text/plain": [
              "<Figure size 2000x600 with 1 Axes>"
            ],
            "image/png": "[encoded data removed]"
          },
          "metadata": {}
        },
        {
          "output_type": "execute_result",
          "data": {
            "text/plain": [
              "TV         251\n",
              "Movie       85\n",
              "ONA         18\n",
              "OVA         15\n",
              "Special     15\n",
              "Name: Show_Format, dtype: int64"
            ]
          },
          "metadata": {},
          "execution_count": 123
        }
      ]
    },
    {
      "cell_type": "markdown",
      "source": [
        "Here,the “TV” format emerges as the most frequent with almost 245 instances, followed by the Movie format with around 85 instances. Other formats like special, ONA and OVA are also present in the dataset but with minimal count not exceeding 20"
      ],
      "metadata": {
        "id": "jXbDBHhj2TtR"
      }
    },
    {
      "cell_type": "markdown",
      "source": [
        "**For numeric variables**"
      ],
      "metadata": {
        "id": "Aa5zSAplYYvU"
      }
    },
    {
      "cell_type": "code",
      "source": [
        "plt.figure(figsize=(12, 6))\n",
        "sns.histplot(df['Score'], kde=True, color='green')\n",
        "plt.title('Distribution of Scores')\n",
        "plt.xlabel('Score')\n",
        "plt.ylabel('Frequency')\n",
        "plt.show()\n",
        "print(df['Score'].value_counts())"
      ],
      "metadata": {
        "colab": {
          "base_uri": "https://localhost:8080/",
          "height": 751
        },
        "id": "fGT5Z_ojHK6f",
        "outputId": "6698efc6-fe2f-48c6-8eb3-b92707648b73"
      },
      "execution_count": 124,
      "outputs": [
        {
          "output_type": "display_data",
          "data": {
            "text/plain": [
              "<Figure size 1200x600 with 1 Axes>"
            ],
            "image/png": "[encoded data removed]"
          },
          "metadata": {}
        },
        {
          "output_type": "stream",
          "name": "stdout",
          "text": [
            "8.41    15\n",
            "8.30    15\n",
            "8.21    14\n",
            "8.28    13\n",
            "8.22    11\n",
            "        ..\n",
            "8.84     1\n",
            "8.78     1\n",
            "8.76     1\n",
            "8.74     1\n",
            "9.09     1\n",
            "Name: Score, Length: 76, dtype: int64\n"
          ]
        }
      ]
    },
    {
      "cell_type": "markdown",
      "source": [
        "Here, The concentration for the score is highly noticeable for the score in the range of 8.2 to 8.3 with the mode being somewhere around 8.35. The frequency for the score of 9 and above is minimal."
      ],
      "metadata": {
        "id": "GLCjZPcb2hxf"
      }
    },
    {
      "cell_type": "code",
      "source": [
        "plt.figure(figsize=(10, 6))\n",
        "sns.boxplot(x=df['Score'],palette='Set3')\n",
        "plt.title('Box Plot of Scores')\n",
        "plt.xlabel('Score')\n",
        "plt.show()\n"
      ],
      "metadata": {
        "colab": {
          "base_uri": "https://localhost:8080/",
          "height": 564
        },
        "id": "15a2d7b2J2iC",
        "outputId": "d8b90d82-a564-4d9b-cc50-e97910d25722"
      },
      "execution_count": 125,
      "outputs": [
        {
          "output_type": "display_data",
          "data": {
            "text/plain": [
              "<Figure size 1000x600 with 1 Axes>"
            ],
            "image/png": "[encoded data removed]"
          },
          "metadata": {}
        }
      ]
    },
    {
      "cell_type": "markdown",
      "source": [
        "It reveals that the minimum value is around 8.21 and maximum is around 9.2. The presence of outliers can also be visualized from the box plot. The interquartile range (IQR) of the boxplot is inclined towards the first quartile, suggesting the concentration of scores towards the lower range. The median line inside the box can be seen aligned at the value 8.41, representing the central tendency of the score."
      ],
      "metadata": {
        "id": "EKK5kSu02kIh"
      }
    },
    {
      "cell_type": "markdown",
      "source": [
        "**Bivariate Analysis**"
      ],
      "metadata": {
        "id": "nna9T_NsYeor"
      }
    },
    {
      "cell_type": "code",
      "source": [
        "numeric_columns = df.select_dtypes(include=['number'])\n",
        "plt.figure(figsize=(10, 6))\n",
        "sns.scatterplot(x='Score', y='members', data=df)\n",
        "plt.title('Scatterplot: Score vs Members')\n",
        "plt.xlabel('Score')\n",
        "plt.ylabel('Members')\n",
        "plt.show()\n"
      ],
      "metadata": {
        "colab": {
          "base_uri": "https://localhost:8080/",
          "height": 564
        },
        "id": "pdnLnjcyOibf",
        "outputId": "92c3422d-2767-4505-dc5b-720336138393"
      },
      "execution_count": 126,
      "outputs": [
        {
          "output_type": "display_data",
          "data": {
            "text/plain": [
              "<Figure size 1000x600 with 1 Axes>"
            ],
            "image/png": "[encoded data removed]"
          },
          "metadata": {}
        }
      ]
    },
    {
      "cell_type": "markdown",
      "source": [
        "The scatterplot suggests that there is a positive correlation between the members and score. In general, the increase in members count is suggesting a increasing in score. However, this relationship is not consistently linear. There are instances where they are not directly proportional. Higher score can be observed despite relatively low member counts."
      ],
      "metadata": {
        "id": "ImANg1mA2ql2"
      }
    },
    {
      "cell_type": "code",
      "source": [
        "plt.figure(figsize=(10, 6))\n",
        "sns.scatterplot(y='Duration_Months', x='episode', data=df)\n",
        "plt.title('Scatterplot: Duration vs Episodes')\n",
        "plt.ylabel('Duration Months')\n",
        "plt.xlabel('Episode')\n",
        "plt.show()"
      ],
      "metadata": {
        "colab": {
          "base_uri": "https://localhost:8080/",
          "height": 564
        },
        "id": "h9XKK_sP7AfX",
        "outputId": "5cb40573-7ff4-485c-dbe1-7171a42afe2c"
      },
      "execution_count": 127,
      "outputs": [
        {
          "output_type": "display_data",
          "data": {
            "text/plain": [
              "<Figure size 1000x600 with 1 Axes>"
            ],
            "image/png": "[encoded data removed]"
          },
          "metadata": {}
        }
      ]
    },
    {
      "cell_type": "markdown",
      "source": [
        "The scatterplot indicates that there is a positive correlation between the episodes and duration months. It is evident that, the increase in episode count is showing increase in the duration months. However, there are still few instances where higher number of episodes doesn’t lead to longer duration period."
      ],
      "metadata": {
        "id": "m8fpL6w27Cs7"
      }
    },
    {
      "cell_type": "code",
      "source": [
        "\n",
        "plt.figure(figsize=(10, 6))\n",
        "sns.scatterplot(x='Score', y='Duration_Months', data=df)\n",
        "plt.title('Scatterplot: score vs duration')\n",
        "plt.xlabel('Score')\n",
        "plt.ylabel('duration(months)')\n",
        "plt.show()\n"
      ],
      "metadata": {
        "colab": {
          "base_uri": "https://localhost:8080/",
          "height": 564
        },
        "id": "F2y6cxKcV3fF",
        "outputId": "f0e190bc-1f6a-47b1-827b-154cd098f2be"
      },
      "execution_count": 128,
      "outputs": [
        {
          "output_type": "display_data",
          "data": {
            "text/plain": [
              "<Figure size 1000x600 with 1 Axes>"
            ],
            "image/png": "[encoded data removed]"
          },
          "metadata": {}
        }
      ]
    },
    {
      "cell_type": "markdown",
      "source": [
        "\n",
        "The scatterplot shows a horizontal spread with points clustered at left side. This indicates that there is no any distinct pattern or correlation between the two features. The scores seem to gather around a specific range on the lower side. The dispersion implies that the connection between duration period and score is not very strong.\n",
        "\n",
        "*Since duration period and episode show positive correlation  the scatterplot between score and episodes provides similar result to the analysis above.*"
      ],
      "metadata": {
        "id": "k_O8p0L12vxK"
      }
    },
    {
      "cell_type": "code",
      "source": [
        "plt.figure(figsize=(10, 8))\n",
        "sns.heatmap(numeric_columns.corr(), annot=True,cmap='Blues', fmt=\".2f\")\n",
        "plt.title('Correlation Heatmap')\n",
        "plt.show()"
      ],
      "metadata": {
        "colab": {
          "base_uri": "https://localhost:8080/",
          "height": 699
        },
        "id": "Mcncn4mYaXre",
        "outputId": "ad4d0812-43e1-4eb5-9eee-1030c445cb62"
      },
      "execution_count": 129,
      "outputs": [
        {
          "output_type": "display_data",
          "data": {
            "text/plain": [
              "<Figure size 1000x800 with 2 Axes>"
            ],
            "image/png": "[encoded data removed]"
          },
          "metadata": {}
        }
      ]
    },
    {
      "cell_type": "markdown",
      "source": [
        "The score and members indicate a slight positive correlation (0.25) between them. A stronger positive correlation (0.78) can be observed between episode and duration months. Likewise, there is a weak correlation (0.11) among score and duration. The score and episode displayed the weakest correlation (0.08)."
      ],
      "metadata": {
        "id": "h6oWg0xM3HBl"
      }
    },
    {
      "cell_type": "markdown",
      "source": [
        "## **Conclusion**\n",
        "\n",
        "In conclusion, the dataset revealed some interesting facts. The univariate analysis revealed that the most of the shows are TV format and the majority of the scores are in the range of 8.2 To 8.5. The scatter plot helped us to visualize that when more people watched anime, the score tends to increase. Though this is not always the case. Additionally, there is a connection between the episode of the anime and its duration. This analysis provides us a good insight on how anime’s score is affected by various factors."
      ],
      "metadata": {
        "id": "RghW2ira3Zae"
      }
    }
  ]
}